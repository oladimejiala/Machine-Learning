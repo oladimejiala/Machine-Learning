{
  "nbformat": 4,
  "nbformat_minor": 0,
  "metadata": {
    "colab": {
      "name": "Ouake Malaria and Anemia Survey.ipynb",
      "private_outputs": true,
      "provenance": [],
      "collapsed_sections": [],
      "authorship_tag": "ABX9TyMWDtaT1OXDAv3fYmxR5dXN",
      "include_colab_link": true
    },
    "kernelspec": {
      "name": "python3",
      "display_name": "Python 3"
    },
    "language_info": {
      "name": "python"
    }
  },
  "cells": [
    {
      "cell_type": "markdown",
      "metadata": {
        "id": "view-in-github",
        "colab_type": "text"
      },
      "source": [
        "<a href=\"https://colab.research.google.com/github/oladimejiala/Machine-Learning/blob/main/Ouake_Malaria_and_Anemia_Survey.ipynb\" target=\"_parent\"><img src=\"https://colab.research.google.com/assets/colab-badge.svg\" alt=\"Open In Colab\"/></a>"
      ]
    },
    {
      "cell_type": "code",
      "execution_count": null,
      "metadata": {
        "id": "tkiGnHK1II-C"
      },
      "outputs": [],
      "source": [
        "import pandas as pd\n",
        "import seaborn as sns\n",
        "import matplotlib.pyplot as plt\n",
        "import numpy as np\n",
        "from sklearn.linear_model import LinearRegression, LogisticRegression"
      ]
    },
    {
      "cell_type": "code",
      "source": [
        "ls_Ouake_df = pd.read_csv('/content/ouake retrospective survey.csv')\n",
        "# ls_Ouake_df"
      ],
      "metadata": {
        "id": "v1PFNEGfJPg7"
      },
      "execution_count": null,
      "outputs": []
    },
    {
      "cell_type": "markdown",
      "source": [
        "# **Plot of malaria showing all age categories**"
      ],
      "metadata": {
        "id": "TRpzggzj3gKt"
      }
    },
    {
      "cell_type": "code",
      "source": [
        "# plot of malaria showing all age categories\n",
        "# proof of rising prevalence with high density\n",
        "ls_Ouake_df\n",
        "# ls_Ouake_df.describe() #Mean Malaria parasite density is 85,533.79, with Mean Haem Conc. 8.35, Mean PCV \\: 27.5%"
      ],
      "metadata": {
        "id": "raqzuYQE3D6Z"
      },
      "execution_count": null,
      "outputs": []
    },
    {
      "cell_type": "code",
      "source": [
        "# features = ls_Ouake_df[['Specify the age','write age']]\n",
        "raw_malaria = ls_Ouake_df.iloc[:,12]\n",
        "malaria = raw_malaria.fillna(raw_malaria.mean()).values\n",
        "age_df = ls_Ouake_df['Specify the Age']\n",
        "age = ls_Ouake_df['Specify the Age'].fillna(age_df.mean()).values"
      ],
      "metadata": {
        "id": "ptWgMtHS4YUQ"
      },
      "execution_count": null,
      "outputs": []
    },
    {
      "cell_type": "code",
      "source": [
        "# Trying out Ensemble model : using the average of the three models, lr, xgboost and random forest regressor\n",
        "from sklearn.ensemble import RandomForestRegressor\n",
        "from xgboost import XGBRegressor\n",
        "from sklearn.model_selection import train_test_split\n",
        "from sklearn.metrics import r2_score, mean_squared_error\n",
        "lr = LinearRegression() #linear Model\n",
        "# xgb = xgb.XGBRegressor() # Xgboost model\n",
        "rfr = RandomForestRegressor() # random forest model\n",
        "# model1 = lr.fit(x_train,y_train)"
      ],
      "metadata": {
        "id": "nznvvSoO9XJZ"
      },
      "execution_count": null,
      "outputs": []
    },
    {
      "cell_type": "markdown",
      "source": [
        "# **Age against Malaria Model: Linear Regression**"
      ],
      "metadata": {
        "id": "0DZgNFLvdb7o"
      }
    },
    {
      "cell_type": "code",
      "source": [
        "x_train, x_test, y_train, y_test = train_test_split(age, malaria, test_size = 0.33, random_state = 100)\n",
        "lr = LinearRegression() #linear Model\n",
        "xgb_reg = XGBRegressor(objective ='reg:linear', colsample_bytree = 0.3, learning_rate = 0.1, max_depth = 5, alpha = 10, n_estimators = 10) # Xgboost model\n",
        "rfr = RandomForestRegressor() # random forest model\n",
        "model1 = lr.fit(x_train,y_train)\n",
        "y_pred = lr.predict(x_test)\n",
        "plt.scatter(x_train,y_train, color = 'red') # plt.title('Training Model') # plt.xlabel('Age')\n",
        "plt.ylabel('Malaria Parasite Density')\n",
        "plt.xlabel('Age')\n",
        "plt.plot(x_train, lr.predict(x_train), color ='blue')\n",
        "print('Model Variance score: %.2f' % r2_score(x_train,y_train))\n",
        "\n",
        "model2 = xgb.fit(x_train,y_train)\n",
        "model3 = rfr.fit(x_train, y_train)\n",
        "\n",
        "pred_1 = model1.predict(x_test)\n",
        "pred_2 = model2.predict(x_test)\n",
        "pred_3 = model3.predict(x_test)\n",
        "\n",
        "final_prediction = (pred_1+pred_2+pred_3)\n",
        "average_pred = final_prediction/3.0\n",
        "# r2_score(x_test,y_test)"
      ],
      "metadata": {
        "id": "xGnPNfsnFjcd"
      },
      "execution_count": null,
      "outputs": []
    },
    {
      "cell_type": "markdown",
      "source": [
        "\n",
        "# **Age vs Malaria Linear Model, Jan - April, '22 Case study: Ouake Health Centre, Northern Benin Republic**\n"
      ],
      "metadata": {
        "id": "Kmv6Pvh8h-Br"
      }
    },
    {
      "cell_type": "code",
      "source": [
        "lr.fit(x_train,y_train)\n",
        "plt.scatter(x_test, y_test, color = 'red')\n",
        "plt.plot(x_train, lr.predict(x_train), color = 'blue')\n",
        "plt.title('Age vs Malaria Prediction Model')\n",
        "plt.xlabel('Age')\n",
        "plt.ylabel('Malaria Parasite Density')\n",
        "print('Mean Squared Error %.2f', mean_squared_error(y_test,y_pred))\n",
        "print('Model Variance Score %.2f' %r2_score(y_test,pred_3))"
      ],
      "metadata": {
        "id": "pkQFvZZRh7Q_"
      },
      "execution_count": null,
      "outputs": []
    },
    {
      "cell_type": "code",
      "source": [
        "sns.pairplot(ls_Ouake_df)"
      ],
      "metadata": {
        "id": "x7AlR--Hdotp"
      },
      "execution_count": null,
      "outputs": []
    },
    {
      "cell_type": "markdown",
      "source": [
        "# **Measuring Anemia**: Using Hematocrit (%) and hemoglobin Concentration(g/dl)"
      ],
      "metadata": {
        "id": "C-6OhQfnMBzj"
      }
    },
    {
      "cell_type": "code",
      "source": [
        "overall_anemia = ls_Ouake_df[['hematocrite','Hemoglogin_g_dl']]\n",
        "anemia = overall_anemia.fillna(overall_anemia.mean())\n",
        "sns.histplot(anemia)"
      ],
      "metadata": {
        "id": "scNWjPqZjK2V"
      },
      "execution_count": null,
      "outputs": []
    },
    {
      "cell_type": "markdown",
      "source": [
        "# **Packed Cell Volume vs against Malaria Density Regression Plot**"
      ],
      "metadata": {
        "id": "woLg5iDFzu3I"
      }
    },
    {
      "cell_type": "code",
      "source": [
        "hematocrit_anemia = overall_anemia['hematocrite']\n",
        "hema_anemia = hematocrit_anemia.fillna(hematocrit_anemia.mean())\n",
        "sns.regplot(hematocrit_anemia, malaria) #PCV against Malaria regression plot"
      ],
      "metadata": {
        "id": "19BHEfy9n_PO"
      },
      "execution_count": null,
      "outputs": []
    },
    {
      "cell_type": "code",
      "source": [
        "sns.histplot(hematocrit_anemia)\n",
        "hematocrit_anemia.describe()"
      ],
      "metadata": {
        "id": "aasWqm2etKaq"
      },
      "execution_count": null,
      "outputs": []
    },
    {
      "cell_type": "code",
      "source": [
        "hemoglobin = ls_Ouake_df['Hemoglogin_g_dl']\n",
        "hemoglobin.describe()"
      ],
      "metadata": {
        "id": "GlzorkxLu1mM"
      },
      "execution_count": null,
      "outputs": []
    },
    {
      "cell_type": "markdown",
      "source": [
        "## **Anemia By Age: Using Hematocrit(%) and Hemoglobin (g/dl)**"
      ],
      "metadata": {
        "id": "SSPAzeVa0hJP"
      }
    },
    {
      "cell_type": "code",
      "source": [
        "# sns.histplot(age)\n",
        "sns.regplot(age,hematocrit_anemia)\n",
        "sns.regplot(age,hemoglobin)"
      ],
      "metadata": {
        "id": "0hWZd_HU0tnr"
      },
      "execution_count": null,
      "outputs": []
    },
    {
      "cell_type": "code",
      "source": [
        "x = age\n",
        "y = anemia\n",
        "x_train, x_test, y_train, y_test = train_test_split(x,y, test_size=0.20 , random_state=41)\n",
        "# age_anemia_model = lr.fit(age,anemia)\n",
        "age.shape"
      ],
      "metadata": {
        "id": "VbKQ5DCI20ZZ"
      },
      "execution_count": null,
      "outputs": []
    },
    {
      "cell_type": "markdown",
      "source": [
        "# **Isolating PSAC from the Overall age for PSAC Data Analysis**"
      ],
      "metadata": {
        "id": "wKbcM93l32VM"
      }
    },
    {
      "cell_type": "code",
      "source": [
        "psac = ls_Ouake_df['Specify the Age'].values\n",
        "# psac\n",
        "# for i in psac:\n",
        "#     if psac <= 5:\n",
        "#     print(psac)\n",
        "#     else:\n",
        "#         psac = 5\n",
        "#     print('this is the last number')\n",
        "#         break\n",
        "\n",
        "# def new_psac():\n",
        "#     for i in psac:\n",
        "#         psac <= 5\n",
        "#         if i <= 5:\n",
        "#             i = int(i)\n",
        "#         elif i > 5:\n",
        "#             psac.drop(i)\n",
        "#             print(i)\n",
        "\n",
        "\n",
        "# if __name__=='__main__':\n",
        "#     new_psac()\n",
        "\n"
      ],
      "metadata": {
        "id": "jQ0w-jAQHdn5"
      },
      "execution_count": null,
      "outputs": []
    },
    {
      "cell_type": "code",
      "source": [
        "malaria.describe()"
      ],
      "metadata": {
        "id": "XeDAYPaG6OtE"
      },
      "execution_count": null,
      "outputs": []
    }
  ]
}